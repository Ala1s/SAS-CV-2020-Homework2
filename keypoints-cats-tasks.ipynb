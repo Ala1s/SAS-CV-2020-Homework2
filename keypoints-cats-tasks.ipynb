{
 "cells": [
  {
   "cell_type": "markdown",
   "metadata": {},
   "source": [
    "# Домашнее задание 2 - Локализация ключевых точек\n",
    "<br>\n",
    "\n",
    "Задание выполнил(а): *(впишите свои фамилию и имя)*\n",
    "<br>\n",
    "\n",
    "**Дедлайн:** 17.11.2020 23:59\n",
    "\n",
    "\n",
    "### О задании\n",
    "В этом задании вы познакомитесь с функционалом SAS для реализации сетей локализации ключевых точек, а так же построите и обучите такую сеть самостоятельно.\n",
    "<br>\n",
    "\n",
    "**Задание построено следующим образом:**<br>\n",
    "1) Задание 1: Загрузка данных в CAS - 1 балл<br>\n",
    "2) Задание 2: Соединение таблиц - 3 балла<br>\n",
    "3) Задание 3: Подготовка данных для обучения - 2 балла<br>\n",
    "4) Задание 4: Построение модели - 4 балла<br>\n",
    "5) Задание 5: Обучение модели - 2 балла<br>\n",
    "6) Задание 6: Проверка и визуализация результатов работы сети - 3 балла<br>\n",
    "7) Задание 7 (дополнительное) - до +2 баллов\n",
    "\n",
    "### Формат сдачи\n",
    "\n",
    "После того, как вы выполните домашную работу, поместите jupyter notebook с выполнеными заданиями, а так же все SAS-таблицы с сохраненными моделями в закрытый git-репозиторий на GitHub. Предоставьте доступ к репозиторию аккаунтам GazizovMarat и Ala1s (добавив в свой реппозиторий в качестве коллабораторов).\n",
    "\n",
    "### Важно \n",
    "Для того, чтобы ваши результаты были воспроизводимыми для проверки, указывайте seed при вызове методов, где это возможно. Напоминания об этом так же содержатся в тексте заданий."
   ]
  },
  {
   "cell_type": "code",
   "execution_count": null,
   "metadata": {},
   "outputs": [],
   "source": [
    "import os\n",
    "import numpy as np\n",
    "import cv2\n",
    "from tqdm import tqdm\n",
    "import matplotlib.pyplot as plt\n",
    "%matplotlib inline\n",
    "\n",
    "from glob import glob\n",
    "from tqdm import tqdm\n",
    "\n",
    "from swat import *\n",
    "from dlpy import Model, Sequential\n",
    "from dlpy.layers import *\n",
    "from dlpy.images import ImageTable\n",
    "from dlpy.splitting import three_way_split"
   ]
  },
  {
   "cell_type": "markdown",
   "metadata": {},
   "source": [
    "**Подключение к серверу CAS**<br>\n",
    "Подключитесь к серверу CAS под своим логином и паролем.<br>\n",
    "Загрузите следующие Action Sets: 'image' и 'deepLearn'.<br>"
   ]
  },
  {
   "cell_type": "code",
   "execution_count": null,
   "metadata": {},
   "outputs": [],
   "source": [
    "os.environ['CAS_CLIENT_SSL_CA_LIST'] = r\"/tmp/4fix/trustedcerts.pem\"\n",
    "\n",
    "# Создаем новую сессию CAS:\n",
    "\n",
    "# Ваш код здесь\n",
    "\n",
    "# Загружаем action sets:\n",
    "\n",
    "# Ваш код здесь"
   ]
  },
  {
   "cell_type": "markdown",
   "metadata": {},
   "source": [
    "**Набор данных**<br>\n",
    "Вам предлагается набор данных с фотографиями кошек. Сами фотографии располагаются в папке images. Для каждой фотографии имеется разметка, содержащяя координаты 9 ключевых точек мордочки кошки, точки в разметке представлены через пробел в следующем порядке:\n",
    "- Number of points (default is 9)\n",
    "- Left Eye\n",
    "- Right Eye\n",
    "- Mouth\n",
    "- Left Ear-1\n",
    "- Left Ear-2\n",
    "- Left Ear-3\n",
    "- Right Ear-1\n",
    "- Right Ear-2\n",
    "- Right Ear-3\n",
    "\n",
    "<br>\n",
    "Пример изображения:<br>\n",
    "\n",
    "![cat](cat1.PNG)\n",
    "\n",
    "<br>\n",
    "Первое число - количество точек, оно нам не потребуется.<br>\n",
    "Разметка для каждого изображения находится в отдельном файле, все эти файлы с разметкой содержатся в папке points. Название каждого такого файла совпадает с названием изображения, но имеют расширение '.cat', но не переживайте - это простые текстовые файлы. <br>\n",
    "Пример:<br>\n",
    "Название файла изображения - 00000001_000.jpg <br>\n",
    "Название файла с разметкой - 00000001_000.jpg.cat"
   ]
  },
  {
   "cell_type": "markdown",
   "metadata": {},
   "source": [
    "**Задание 1: Загрузка данных в CAS**<br><br>\n",
    "a) Перед тем, как использовать набор данных, потребуется решить несколько проблем с ним. <br><br>\n",
    "Во-первых, для того чтобы загрузить разметку в CAS потребуется сформировать из них таблицу. Дополните код ниже, чтобы сделать это. <br><br>\n",
    "Заметьте, что одна из строчек кода, уже написанного за вас, помогает отсеивать разметку, в которой не все ключевые точки присутствуют на изображении - в таком случае в разметке присутствуют отрицательные числа. Такие примеры нам не потребуются, поэтому код, сохраняющий разметку для изображений, напишите внутри этого блока if."
   ]
  },
  {
   "cell_type": "code",
   "execution_count": null,
   "metadata": {},
   "outputs": [],
   "source": [
    "points_data = []\n",
    "a_path = #Пропишите здесь путь к папке с аннотациями\n",
    "for path in glob(a_path):\n",
    "    with open(path,'r') as f:\n",
    "        points = f.read().split(' ')[1:-1]\n",
    "        points = [int(x) for x in points]\n",
    "        img = cv2.imread(# Ваш код здесь\n",
    "        if any(x<0 for x in points) == False:\n",
    "            # Ваш код здесь"
   ]
  },
  {
   "cell_type": "code",
   "execution_count": null,
   "metadata": {},
   "outputs": [],
   "source": [
    "labels = ['_filename_0',\n",
    "'left_eye_x','left_eye_y',\n",
    "'right_eye_x','right_eye_y',\n",
    "'mouth_x','mouth_y',\n",
    "'left_ear1_x','left_ear1_y',\n",
    "'left_ear2_x','left_ear2_y',\n",
    "'left_ear3_x','left_ear3_y',\n",
    "'right_ear1_x','right_ear1_y',\n",
    "'right_ear2_x','right_ear2_y',\n",
    "'right_ear3_x','right_ear3_y']"
   ]
  },
  {
   "cell_type": "code",
   "execution_count": null,
   "metadata": {},
   "outputs": [],
   "source": [
    "data = pd.DataFrame.from_records(# Ваш код здесь"
   ]
  },
  {
   "cell_type": "markdown",
   "metadata": {},
   "source": [
    "b) Также, все координаты ключевых точек указаны в абсолютных коорданатах - соотвественно, если мы изменим размер изображения, координаты ключевых точек придётся пересчитывать. Давайте переведем их в относительные координаты - для этого потребуется поделить координаты по x на ширину изображения, а координаты по y на высоту изображения. Обратите внимание, что все изображения различного размера. Также обратите внимание на тип данных столбцов в dataframe - если тип целочисленный, то посчитанные вами значения будут округляться к нулю или единице, что, конечно же, неверно.  "
   ]
  },
  {
   "cell_type": "code",
   "execution_count": null,
   "metadata": {},
   "outputs": [],
   "source": [
    "# Ваш код здесь"
   ]
  },
  {
   "cell_type": "markdown",
   "metadata": {},
   "source": [
    "c) Сохраните набор данных в формате csv, а затем загрузите эту таблицу в CAS с помощью функции upload_file."
   ]
  },
  {
   "cell_type": "code",
   "execution_count": null,
   "metadata": {},
   "outputs": [],
   "source": [
    "# Ваш код здесь"
   ]
  },
  {
   "cell_type": "markdown",
   "metadata": {},
   "source": [
    "d) Создайте список названий переменных, в которых лежат координаты ключевых точек - он нам понадобится в дальнейшем."
   ]
  },
  {
   "cell_type": "code",
   "execution_count": null,
   "metadata": {},
   "outputs": [],
   "source": [
    "# Ваш код здесь"
   ]
  },
  {
   "cell_type": "markdown",
   "metadata": {},
   "source": [
    "e) Загрузите изображения из папки images в ImageTable."
   ]
  },
  {
   "cell_type": "code",
   "execution_count": null,
   "metadata": {},
   "outputs": [],
   "source": [
    "# Ваш код здесь"
   ]
  },
  {
   "cell_type": "markdown",
   "metadata": {},
   "source": [
    "**Задание 2: Соединение таблиц**<br><br>\n",
    "a) Соедините таблицу с изображениями и таблицу с казметкой с помощью action dlJoin. \n",
    "b) Затем с помощью конструктора ImageTable.from_table превратите уже соединенную таблицу в ImageTable для дальнейшей работы с ней."
   ]
  },
  {
   "cell_type": "code",
   "execution_count": null,
   "metadata": {},
   "outputs": [],
   "source": [
    "# a)\n",
    "# Ваш код здесь"
   ]
  },
  {
   "cell_type": "code",
   "execution_count": null,
   "metadata": {},
   "outputs": [],
   "source": [
    "# b)\n",
    "# Ваш код здесь"
   ]
  },
  {
   "cell_type": "markdown",
   "metadata": {},
   "source": [
    "**Задание 3: Подготовка данных для обучения**<br><br>\n",
    "а) Измените размер изображений на 96x96 с помощью функции resize ImageTable.<br>\n",
    "b) Перемешайте данные с помощью функции action shuffle.<br>\n",
    "c) Разделите набор данных на обучающий, валидационный и тестовых с помощью функции three_way_split. Процент данных в валидационном наборе данных - 20%, в тестовом - 20%.<br>"
   ]
  },
  {
   "cell_type": "code",
   "execution_count": null,
   "metadata": {},
   "outputs": [],
   "source": [
    "# a)\n",
    "# Ваш код здесь"
   ]
  },
  {
   "cell_type": "code",
   "execution_count": null,
   "metadata": {},
   "outputs": [],
   "source": [
    "# b)\n",
    "# Ваш код здесь"
   ]
  },
  {
   "cell_type": "code",
   "execution_count": null,
   "metadata": {},
   "outputs": [],
   "source": [
    "# c)\n",
    "# Ваш код здесь"
   ]
  },
  {
   "cell_type": "markdown",
   "metadata": {},
   "source": [
    "**Задание 4: Построение модели**<br><br>\n",
    "Постройте модель CNN, схема которой изображена на картинке. Особенности модели не отраженные на рисунке: в слое Conv предшествующем BatchNormalization отсутствуют bias, а в Dense слое присутствует дропаут с вероятностью 0.2. Полученная вами сеть должна показывать Loss Error на тестовом наборе данных более 0.21.\n",
    "![model](kpnetwork.PNG)"
   ]
  },
  {
   "cell_type": "code",
   "execution_count": null,
   "metadata": {},
   "outputs": [],
   "source": [
    "model = Sequential(s, model_table='cnn_model')\n",
    "model.add(InputLayer(1,96,96))\n",
    "\n",
    "# Ваш код здесь\n",
    "\n",
    "model.add(Keypoints(n=18, name='kp1'))"
   ]
  },
  {
   "cell_type": "markdown",
   "metadata": {},
   "source": [
    "**Задание 5: Обучение модели**<br><br>\n",
    "Обучите модель, дополнив код ниже. Формат входных данных в model.fit укажите с помощью параметра data_specs."
   ]
  },
  {
   "cell_type": "code",
   "execution_count": null,
   "metadata": {},
   "outputs": [],
   "source": [
    "from dlpy.model import *\n",
    "from dlpy.model import Optimizer\n",
    "\n",
    "#Подберите самостоятельно\n",
    "lr = \n",
    "\n",
    "optimizer = Optimizer(mini_batch_size=12, log_level=2, max_epochs=20, reg_l2=0.0005,\n",
    "                      algorithm=MomentumSolver(clip_grad_max=1000, clip_grad_min=-1000,\n",
    "                                               learning_rate=lr, step_size=30))\n",
    "\n",
    "data_specs = # Ваш код здесь\n",
    "train_history = model.fit( ,# Ваш код здесь\n",
    "                          seed=42)"
   ]
  },
  {
   "cell_type": "markdown",
   "metadata": {},
   "source": [
    "**Задание 6: Проверка и визуализация результатов работы сети**<br><br>\n",
    "a) Получите предсказания на тестовом наборе данных c помощью функции predict.<br>\n",
    "b) Дополните код функции plot_landmarks, предназначенной для визуализации предсказаний модели. С помощью вызова этой функции отоборазите результаты из тестового набора данных."
   ]
  },
  {
   "cell_type": "code",
   "execution_count": null,
   "metadata": {},
   "outputs": [],
   "source": [
    "# a)\n",
    "# Ваш код здесь"
   ]
  },
  {
   "cell_type": "code",
   "execution_count": null,
   "metadata": {},
   "outputs": [],
   "source": [
    "# b)\n",
    "def plot_landmarks(conn, data, targets, image_list=range(4), n_col=2, figsize=None):\n",
    "    import cv2\n",
    "    n_images = len(image_list)\n",
    "    num_obs = min(len(data), n_images)\n",
    "    res_img = conn.fetchimages(table=data, to=num_obs).Images\n",
    "    res_label = conn.fetch(data, fetchvars=targets, to=num_obs).Fetch\n",
    "\n",
    "    if n_images > n_col:\n",
    "        n_row = n_images // n_col + 1\n",
    "    else:\n",
    "        n_row = 1\n",
    "        n_col = n_images\n",
    "\n",
    "    if figsize is None:\n",
    "        figsize = (16, 16 // n_col * n_row)\n",
    "\n",
    "    fig = plt.figure(figsize=figsize)\n",
    "\n",
    "    idx_img = 1\n",
    "    for i in image_list:\n",
    "        # Ваш код здесь\n",
    "    plt.show()"
   ]
  },
  {
   "cell_type": "code",
   "execution_count": null,
   "metadata": {},
   "outputs": [],
   "source": [
    "plot_landmarks(#Ваш код здесь"
   ]
  },
  {
   "cell_type": "markdown",
   "metadata": {},
   "source": [
    "**Задание 7 (дополнительное):**<br><br>\n",
    "Перепишите функцию plot_landmarks так, чтобы различные ключевые точки отображались различными цветами. То есть, например, точка левого глаза всегда была синей, правого - зеленой и т.д."
   ]
  },
  {
   "cell_type": "code",
   "execution_count": null,
   "metadata": {},
   "outputs": [],
   "source": [
    "#Ваш код здесь"
   ]
  }
 ],
 "metadata": {
  "kernelspec": {
   "display_name": "Python 3",
   "language": "python",
   "name": "python3"
  },
  "language_info": {
   "codemirror_mode": {
    "name": "ipython",
    "version": 3
   },
   "file_extension": ".py",
   "mimetype": "text/x-python",
   "name": "python",
   "nbconvert_exporter": "python",
   "pygments_lexer": "ipython3",
   "version": "3.7.1"
  }
 },
 "nbformat": 4,
 "nbformat_minor": 4
}
